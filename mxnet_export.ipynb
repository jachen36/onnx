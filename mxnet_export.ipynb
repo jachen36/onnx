{
 "cells": [
  {
   "cell_type": "markdown",
   "metadata": {},
   "source": [
    "Mxnet support ONNX export up to 1.3 but I have 1.6. I tried to create an environment with 1.2.1 from the tutorial and it was giving me trouble so I gave up. \n",
    "\n",
    "[tutorial](https://mxnet.apache.org/api/python/docs/tutorials/deploy/export/onnx.html)"
   ]
  },
  {
   "cell_type": "markdown",
   "metadata": {},
   "source": [
    "## Exporting model"
   ]
  },
  {
   "cell_type": "code",
   "execution_count": 3,
   "metadata": {},
   "outputs": [],
   "source": [
    "import mxnet as mx\n",
    "import numpy as np\n",
    "from mxnet.contrib import onnx as onnx_mxnet"
   ]
  },
  {
   "cell_type": "code",
   "execution_count": 4,
   "metadata": {},
   "outputs": [
    {
     "data": {
      "text/plain": [
       "['resnet-18-0000.params', 'resnet-18-symbol.json', 'synset.txt']"
      ]
     },
     "execution_count": 4,
     "metadata": {},
     "output_type": "execute_result"
    }
   ],
   "source": [
    "# Download pre-trained resnet model - json and params by running following code.\n",
    "path = \"http://data.mxnet.io/models/imagenet/\"\n",
    "[\n",
    "    mx.test_utils.download(path + \"resnet/18-layers/resnet-18-0000.params\"),\n",
    "    mx.test_utils.download(path + \"resnet/18-layers/resnet-18-symbol.json\"),\n",
    "    mx.test_utils.download(path + \"synset.txt\"),\n",
    "]"
   ]
  },
  {
   "cell_type": "code",
   "execution_count": 5,
   "metadata": {},
   "outputs": [],
   "source": [
    "# Downloaded input symbol and params files\n",
    "sym = \"./resnet-18-symbol.json\"\n",
    "params = \"./resnet-18-0000.params\"\n",
    "\n",
    "# Standard Imagenet input - 3 channels, 224*224\n",
    "input_shape = (1, 3, 224, 224)\n",
    "\n",
    "# Path of the output file\n",
    "onnx_file = \"./mxnet_exported_resnet50.onnx\""
   ]
  },
  {
   "cell_type": "code",
   "execution_count": 6,
   "metadata": {},
   "outputs": [
    {
     "ename": "ValidationError",
     "evalue": "Unrecognized attribute: spatial for operator BatchNormalization\n\n==> Context: Bad node spec: input: \"data\" input: \"bn_data_gamma\" input: \"bn_data_beta\" input: \"bn_data_moving_mean\" input: \"bn_data_moving_var\" output: \"bn_data\" name: \"bn_data\" op_type: \"BatchNormalization\" attribute { name: \"epsilon\" f: 2e-05 type: FLOAT } attribute { name: \"momentum\" f: 0.9 type: FLOAT } attribute { name: \"spatial\" i: 0 type: INT }",
     "output_type": "error",
     "traceback": [
      "\u001b[0;31m-------------------------------------------------------------------------\u001b[0m",
      "\u001b[0;31mValidationError\u001b[0m                         Traceback (most recent call last)",
      "\u001b[0;32m<ipython-input-6-f9c8fbccfbf0>\u001b[0m in \u001b[0;36m<module>\u001b[0;34m\u001b[0m\n\u001b[1;32m      1\u001b[0m \u001b[0;31m# Invoke export model API. It returns path of the converted onnx model\u001b[0m\u001b[0;34m\u001b[0m\u001b[0;34m\u001b[0m\u001b[0;34m\u001b[0m\u001b[0m\n\u001b[0;32m----> 2\u001b[0;31m \u001b[0mconverted_model_path\u001b[0m \u001b[0;34m=\u001b[0m \u001b[0monnx_mxnet\u001b[0m\u001b[0;34m.\u001b[0m\u001b[0mexport_model\u001b[0m\u001b[0;34m(\u001b[0m\u001b[0msym\u001b[0m\u001b[0;34m,\u001b[0m \u001b[0mparams\u001b[0m\u001b[0;34m,\u001b[0m \u001b[0;34m[\u001b[0m\u001b[0minput_shape\u001b[0m\u001b[0;34m]\u001b[0m\u001b[0;34m,\u001b[0m \u001b[0mnp\u001b[0m\u001b[0;34m.\u001b[0m\u001b[0mfloat32\u001b[0m\u001b[0;34m,\u001b[0m \u001b[0monnx_file\u001b[0m\u001b[0;34m)\u001b[0m\u001b[0;34m\u001b[0m\u001b[0;34m\u001b[0m\u001b[0m\n\u001b[0m",
      "\u001b[0;32m~/anaconda3/envs/onnx/lib/python3.7/site-packages/mxnet/contrib/onnx/mx2onnx/export_model.py\u001b[0m in \u001b[0;36mexport_model\u001b[0;34m(sym, params, input_shape, input_type, onnx_file_path, verbose)\u001b[0m\n\u001b[1;32m     81\u001b[0m         onnx_graph = converter.create_onnx_graph_proto(sym_obj, params_obj, input_shape,\n\u001b[1;32m     82\u001b[0m                                                        \u001b[0mmapping\u001b[0m\u001b[0;34m.\u001b[0m\u001b[0mNP_TYPE_TO_TENSOR_TYPE\u001b[0m\u001b[0;34m[\u001b[0m\u001b[0mdata_format\u001b[0m\u001b[0;34m]\u001b[0m\u001b[0;34m,\u001b[0m\u001b[0;34m\u001b[0m\u001b[0;34m\u001b[0m\u001b[0m\n\u001b[0;32m---> 83\u001b[0;31m                                                        verbose=verbose)\n\u001b[0m\u001b[1;32m     84\u001b[0m     \u001b[0;32melif\u001b[0m \u001b[0misinstance\u001b[0m\u001b[0;34m(\u001b[0m\u001b[0msym\u001b[0m\u001b[0;34m,\u001b[0m \u001b[0msymbol\u001b[0m\u001b[0;34m.\u001b[0m\u001b[0mSymbol\u001b[0m\u001b[0;34m)\u001b[0m \u001b[0;32mand\u001b[0m \u001b[0misinstance\u001b[0m\u001b[0;34m(\u001b[0m\u001b[0mparams\u001b[0m\u001b[0;34m,\u001b[0m \u001b[0mdict\u001b[0m\u001b[0;34m)\u001b[0m\u001b[0;34m:\u001b[0m\u001b[0;34m\u001b[0m\u001b[0;34m\u001b[0m\u001b[0m\n\u001b[1;32m     85\u001b[0m         onnx_graph = converter.create_onnx_graph_proto(sym, params, input_shape,\n",
      "\u001b[0;32m~/anaconda3/envs/onnx/lib/python3.7/site-packages/mxnet/contrib/onnx/mx2onnx/export_onnx.py\u001b[0m in \u001b[0;36mcreate_onnx_graph_proto\u001b[0;34m(self, sym, params, in_shape, in_type, verbose)\u001b[0m\n\u001b[1;32m    310\u001b[0m         \u001b[0mgraph\u001b[0m\u001b[0;34m.\u001b[0m\u001b[0minitializer\u001b[0m\u001b[0;34m.\u001b[0m\u001b[0mextend\u001b[0m\u001b[0;34m(\u001b[0m\u001b[0minitializer\u001b[0m\u001b[0;34m)\u001b[0m\u001b[0;34m\u001b[0m\u001b[0;34m\u001b[0m\u001b[0m\n\u001b[1;32m    311\u001b[0m \u001b[0;34m\u001b[0m\u001b[0m\n\u001b[0;32m--> 312\u001b[0;31m         \u001b[0mchecker\u001b[0m\u001b[0;34m.\u001b[0m\u001b[0mcheck_graph\u001b[0m\u001b[0;34m(\u001b[0m\u001b[0mgraph\u001b[0m\u001b[0;34m)\u001b[0m\u001b[0;34m\u001b[0m\u001b[0;34m\u001b[0m\u001b[0m\n\u001b[0m\u001b[1;32m    313\u001b[0m         \u001b[0;32mreturn\u001b[0m \u001b[0mgraph\u001b[0m\u001b[0;34m\u001b[0m\u001b[0;34m\u001b[0m\u001b[0m\n",
      "\u001b[0;32m~/anaconda3/envs/onnx/lib/python3.7/site-packages/onnx/checker.py\u001b[0m in \u001b[0;36mchecker\u001b[0;34m(proto, ctx)\u001b[0m\n\u001b[1;32m     51\u001b[0m                         proto_type.__name__))\n\u001b[1;32m     52\u001b[0m             return getattr(C, py_func.__name__)(\n\u001b[0;32m---> 53\u001b[0;31m                 proto.SerializeToString(), ctx)\n\u001b[0m\u001b[1;32m     54\u001b[0m         \u001b[0;32mreturn\u001b[0m \u001b[0mcast\u001b[0m\u001b[0;34m(\u001b[0m\u001b[0mFuncType\u001b[0m\u001b[0;34m,\u001b[0m \u001b[0mchecker\u001b[0m\u001b[0;34m)\u001b[0m\u001b[0;34m\u001b[0m\u001b[0;34m\u001b[0m\u001b[0m\n\u001b[1;32m     55\u001b[0m     \u001b[0;32mreturn\u001b[0m \u001b[0mdecorator\u001b[0m\u001b[0;34m\u001b[0m\u001b[0;34m\u001b[0m\u001b[0m\n",
      "\u001b[0;31mValidationError\u001b[0m: Unrecognized attribute: spatial for operator BatchNormalization\n\n==> Context: Bad node spec: input: \"data\" input: \"bn_data_gamma\" input: \"bn_data_beta\" input: \"bn_data_moving_mean\" input: \"bn_data_moving_var\" output: \"bn_data\" name: \"bn_data\" op_type: \"BatchNormalization\" attribute { name: \"epsilon\" f: 2e-05 type: FLOAT } attribute { name: \"momentum\" f: 0.9 type: FLOAT } attribute { name: \"spatial\" i: 0 type: INT }"
     ]
    }
   ],
   "source": [
    "# Invoke export model API. It returns path of the converted onnx model\n",
    "converted_model_path = onnx_mxnet.export_model(sym, params, [input_shape], np.float32, onnx_file)"
   ]
  },
  {
   "cell_type": "code",
   "execution_count": null,
   "metadata": {},
   "outputs": [],
   "source": []
  },
  {
   "cell_type": "code",
   "execution_count": null,
   "metadata": {},
   "outputs": [],
   "source": [
    "from onnx import checker\n",
    "import onnx\n",
    "\n",
    "# Load onnx model\n",
    "model_proto = onnx.load_model(converted_model_path)\n",
    "\n",
    "# Check if converted ONNX protobuf is valid\n",
    "checker.check_graph(model_proto.graph)"
   ]
  },
  {
   "cell_type": "code",
   "execution_count": null,
   "metadata": {},
   "outputs": [],
   "source": []
  },
  {
   "cell_type": "code",
   "execution_count": null,
   "metadata": {},
   "outputs": [],
   "source": []
  },
  {
   "cell_type": "code",
   "execution_count": null,
   "metadata": {},
   "outputs": [],
   "source": []
  }
 ],
 "metadata": {
  "kernelspec": {
   "display_name": "onnx",
   "language": "python",
   "name": "onnx"
  },
  "language_info": {
   "codemirror_mode": {
    "name": "ipython",
    "version": 3
   },
   "file_extension": ".py",
   "mimetype": "text/x-python",
   "name": "python",
   "nbconvert_exporter": "python",
   "pygments_lexer": "ipython3",
   "version": "3.7.7"
  }
 },
 "nbformat": 4,
 "nbformat_minor": 4
}
