{
 "cells": [
  {
   "cell_type": "code",
   "execution_count": 1,
   "metadata": {},
   "outputs": [],
   "source": [
    "import numpy as np\n",
    "import onnxruntime\n",
    "from PIL import Image"
   ]
  },
  {
   "cell_type": "markdown",
   "metadata": {},
   "source": [
    "## Random Forest\n",
    "\n",
    "A Random Forest classification model from Scikit-Learn that predictions the iris class. "
   ]
  },
  {
   "cell_type": "code",
   "execution_count": 2,
   "metadata": {},
   "outputs": [
    {
     "name": "stdout",
     "output_type": "stream",
     "text": [
      "Input shape: (38, 4)\n",
      "Prediction: [0, 2, 2, 2, 1, 0, 1, 2, 0, 0, 0, 2, 1, 0, 0, 2, 1, 1, 0, 2, 0, 0, 2, 2, 0, 1, 2, 0, 2, 0, 0, 2, 2, 2, 1, 2, 1, 1]\n"
     ]
    }
   ],
   "source": [
    "# Get input\n",
    "x = np.loadtxt('iris_data.csv', delimiter=',')\n",
    "print(f'Input shape: {x.shape}')\n",
    "\n",
    "# Load model and Inference\n",
    "ort_session = onnxruntime.InferenceSession(\"rf_iris.onnx\")\n",
    "input_name = ort_session.get_inputs()[0].name\n",
    "label_name = ort_session.get_outputs()[0].name\n",
    "pred_onx = ort_session.run([label_name], {input_name: x.astype(np.float32)})[0]\n",
    "print(f'Prediction: {pred_onx.tolist()}')"
   ]
  },
  {
   "cell_type": "markdown",
   "metadata": {},
   "source": [
    "## Super Resolution Model\n",
    "\n",
    "A Pytorch model that increase the size of an image and makes it sharper. The output is another image. "
   ]
  },
  {
   "cell_type": "code",
   "execution_count": 3,
   "metadata": {},
   "outputs": [
    {
     "name": "stdout",
     "output_type": "stream",
     "text": [
      "Input shape: (1, 1, 224, 224)\n",
      "Output shape: (1, 1, 672, 672)\n"
     ]
    }
   ],
   "source": [
    "# Get input\n",
    "x = np.random.rand(1, 1, 224, 224)  # fake small image\n",
    "print(f'Input shape: {x.shape}')\n",
    "\n",
    "# Load model and Inference\n",
    "ort_session = onnxruntime.InferenceSession(\"super_resolution.onnx\")\n",
    "ort_inputs = {ort_session.get_inputs()[0].name: x.astype(np.float32)}\n",
    "ort_outs = ort_session.run(None, ort_inputs)[0]\n",
    "print(f'Output shape: {ort_outs.shape}')"
   ]
  },
  {
   "cell_type": "markdown",
   "metadata": {},
   "source": [
    "## Faster RCNN\n",
    "\n",
    "This is an object detection within torchvision. The return output list the bbox, class, and confidence score. "
   ]
  },
  {
   "cell_type": "code",
   "execution_count": 4,
   "metadata": {},
   "outputs": [],
   "source": [
    "def get_image(image_path):\n",
    "    img = Image.open(image_path)\n",
    "    img.readonly = False  # https://github.com/python-pillow/Pillow/issues/3336\n",
    "    # onnx only works with numpy. and values range from 0-1\n",
    "    img = np.asarray(img) / 255\n",
    "    img = img.transpose((2, 0, 1))[None, :, :, :]  # add batchsize of 1\n",
    "    return img.astype(\"float32\")  # onnx only works with 4bits"
   ]
  },
  {
   "cell_type": "code",
   "execution_count": 5,
   "metadata": {},
   "outputs": [
    {
     "data": {
      "text/plain": [
       "[array([[0.0000000e+00, 3.1964536e+02, 4.4151535e+02, 1.3232561e+03],\n",
       "        [7.6530365e+02, 3.5194049e+02, 1.1937161e+03, 1.3122842e+03],\n",
       "        [1.1569447e+03, 3.9462311e+02, 1.5692056e+03, 1.3221746e+03],\n",
       "        [1.5193402e+03, 4.2956503e+02, 1.9924286e+03, 1.3306053e+03],\n",
       "        [3.6410751e+02, 3.8761441e+02, 7.7179010e+02, 1.3061730e+03],\n",
       "        [6.1342780e+02, 2.6801114e+02, 9.1221960e+02, 1.2417460e+03],\n",
       "        [1.4390378e+03, 3.3610452e+02, 1.6699921e+03, 7.9422113e+02],\n",
       "        [1.7239886e+03, 2.8932889e+02, 1.9978444e+03, 8.8991754e+02],\n",
       "        [1.1548141e+03, 1.8347633e+02, 1.4561610e+03, 7.0533588e+02],\n",
       "        [1.6002692e+03, 1.9745711e+02, 1.7637482e+03, 6.3540698e+02],\n",
       "        [8.8222968e+02, 1.9024481e+02, 1.2439409e+03, 7.4671735e+02],\n",
       "        [5.4619714e+02, 2.4166563e+02, 7.1724133e+02, 5.4152289e+02],\n",
       "        [2.3673456e+02, 1.0111604e+02, 4.8953281e+02, 6.6732379e+02],\n",
       "        [8.3153918e+02, 2.0396672e+02, 1.1440724e+03, 6.0038452e+02],\n",
       "        [2.1523401e+02, 1.5433284e+02, 4.8706909e+02, 1.1148015e+03],\n",
       "        [1.1423719e+03, 1.9198508e+02, 1.5366194e+03, 9.7392120e+02],\n",
       "        [0.0000000e+00, 6.2381567e+02, 1.6149025e+02, 1.2446345e+03],\n",
       "        [1.5767943e+03, 2.0830472e+02, 1.8524418e+03, 7.4404315e+02],\n",
       "        [2.5803979e+02, 3.3354199e+02, 6.2200293e+02, 1.3077095e+03],\n",
       "        [8.9625861e+02, 3.5897919e+02, 1.3640471e+03, 1.3157704e+03],\n",
       "        [1.0497869e+03, 1.0656609e+03, 1.0759008e+03, 1.1003925e+03],\n",
       "        [5.3045654e+00, 4.1446286e+02, 2.1460191e+02, 1.3150638e+03],\n",
       "        [1.5564303e+03, 2.1094751e+02, 1.9997416e+03, 9.6501190e+02],\n",
       "        [4.5242111e+01, 9.1016168e+02, 1.5961397e+02, 1.0558933e+03],\n",
       "        [1.4584298e+03, 3.3477768e+02, 1.7331398e+03, 1.2968472e+03],\n",
       "        [1.8248829e+03, 2.9716940e+02, 2.0000000e+03, 1.2893737e+03],\n",
       "        [1.0172559e+03, 2.9484174e+02, 1.2510472e+03, 7.7417389e+02],\n",
       "        [1.7593108e+02, 5.9531421e+02, 3.9948129e+02, 9.5222791e+02],\n",
       "        [9.5729694e+02, 1.7659543e+02, 1.6549406e+03, 7.6931677e+02],\n",
       "        [8.1828690e+00, 1.1708748e+03, 1.5495367e+02, 1.3270238e+03],\n",
       "        [1.4883315e+03, 2.6911914e+02, 1.7646429e+03, 7.7533862e+02],\n",
       "        [5.5097713e+01, 9.1187964e+02, 8.6512688e+01, 9.8316205e+02],\n",
       "        [3.7265338e+02, 7.5000104e+02, 4.7405991e+02, 1.3199926e+03],\n",
       "        [0.0000000e+00, 5.6960175e+02, 1.6151758e+02, 8.6986426e+02],\n",
       "        [1.0385804e+03, 1.0429966e+03, 1.0767806e+03, 1.0973979e+03],\n",
       "        [1.2316808e+03, 3.0593054e+02, 1.6183900e+03, 8.5237537e+02],\n",
       "        [3.6451340e-01, 8.9335681e+02, 8.7395370e+01, 9.7809412e+02],\n",
       "        [1.1959521e+00, 7.1774341e+02, 1.5803410e+02, 1.1760800e+03],\n",
       "        [6.7784241e+01, 1.7359192e+02, 4.4878549e+02, 7.4863519e+02]],\n",
       "       dtype=float32),\n",
       " array([ 1,  1,  1,  1,  1,  1,  1,  1,  1,  1,  1,  1,  1,  1,  1,  1, 31,\n",
       "         1,  1,  1, 85,  1,  1,  3,  1,  1,  1, 32,  1,  1,  1, 14,  1, 31,\n",
       "        85,  1,  3, 28,  1], dtype=int64),\n",
       " array([0.9986299 , 0.99834085, 0.9981614 , 0.997095  , 0.99641883,\n",
       "        0.9874436 , 0.9854257 , 0.98530376, 0.97725254, 0.97337204,\n",
       "        0.9605876 , 0.8864464 , 0.83272684, 0.7734716 , 0.3906433 ,\n",
       "        0.35724142, 0.3154281 , 0.29060563, 0.20218131, 0.19457659,\n",
       "        0.19039668, 0.16206843, 0.15520822, 0.13097931, 0.12128077,\n",
       "        0.11607268, 0.11003023, 0.10491685, 0.09856997, 0.08990771,\n",
       "        0.08154137, 0.07988752, 0.06910268, 0.06626777, 0.0659629 ,\n",
       "        0.06523684, 0.05898487, 0.05840803, 0.05498857], dtype=float32)]"
      ]
     },
     "execution_count": 5,
     "metadata": {},
     "output_type": "execute_result"
    }
   ],
   "source": [
    "# Get input\n",
    "x = get_image('people.jpg')  # fake data didn't work\n",
    "\n",
    "# Load model and Inference\n",
    "ort_session = onnxruntime.InferenceSession(\"faster-rcnn.onnx\")\n",
    "ort_inputs = {ort_session.get_inputs()[0].name: x.astype(np.float32)}\n",
    "ort_outs = ort_session.run(None, ort_inputs)\n",
    "ort_outs"
   ]
  },
  {
   "cell_type": "markdown",
   "metadata": {},
   "source": [
    "## Inference Environment "
   ]
  },
  {
   "cell_type": "code",
   "execution_count": 6,
   "metadata": {},
   "outputs": [
    {
     "name": "stdout",
     "output_type": "stream",
     "text": [
      "# packages in environment at /home/jack/anaconda3/envs/onnx-infer:\n",
      "#\n",
      "# Name                    Version                   Build  Channel\n",
      "_libgcc_mutex             0.1                        main  \n",
      "backcall                  0.1.0                    py37_0  \n",
      "blas                      1.0                         mkl  \n",
      "ca-certificates           2020.1.1                      0  \n",
      "certifi                   2020.4.5.1               py37_0  \n",
      "cycler                    0.10.0                   py37_0  \n",
      "dbus                      1.13.14              hb2f20db_0  \n",
      "decorator                 4.4.2                      py_0  \n",
      "entrypoints               0.3                      py37_0  \n",
      "expat                     2.2.6                he6710b0_0  \n",
      "fontconfig                2.13.0               h9420a91_0  \n",
      "freetype                  2.9.1                h8a8886c_1  \n",
      "glib                      2.63.1               h5a9c865_0  \n",
      "gst-plugins-base          1.14.0               hbbd80ab_1  \n",
      "gstreamer                 1.14.0               hb453b48_1  \n",
      "icu                       58.2                 he6710b0_3  \n",
      "intel-openmp              2020.0                      166  \n",
      "ipykernel                 5.1.4            py37h39e3cac_0  \n",
      "ipython                   7.13.0           py37h5ca1d4c_0  \n",
      "ipython_genutils          0.2.0                    py37_0  \n",
      "jedi                      0.17.0                   py37_0  \n",
      "jpeg                      9b                   h024ee3a_2  \n",
      "jupyter_client            6.1.3                      py_0  \n",
      "jupyter_core              4.6.3                    py37_0  \n",
      "kiwisolver                1.2.0            py37hfd86e86_0  \n",
      "ld_impl_linux-64          2.33.1               h53a641e_7  \n",
      "libedit                   3.1.20181209         hc058e9b_0  \n",
      "libffi                    3.2.1                hd88cf55_4  \n",
      "libgcc-ng                 9.1.0                hdf63c60_0  \n",
      "libgfortran-ng            7.3.0                hdf63c60_0  \n",
      "libpng                    1.6.37               hbc83047_0  \n",
      "libsodium                 1.0.16               h1bed415_0  \n",
      "libstdcxx-ng              9.1.0                hdf63c60_0  \n",
      "libtiff                   4.1.0                h2733197_0  \n",
      "libuuid                   1.0.3                h1bed415_2  \n",
      "libxcb                    1.13                 h1bed415_1  \n",
      "libxml2                   2.9.9                hea5a465_1  \n",
      "matplotlib                3.1.3                    py37_0  \n",
      "matplotlib-base           3.1.3            py37hef1b27d_0  \n",
      "mkl                       2020.0                      166  \n",
      "mkl-service               2.3.0            py37he904b0f_0  \n",
      "mkl_fft                   1.0.15           py37ha843d7b_0  \n",
      "mkl_random                1.1.0            py37hd6b4f25_0  \n",
      "ncurses                   6.2                  he6710b0_1  \n",
      "numpy                     1.18.4                   pypi_0    pypi\n",
      "numpy-base                1.18.1           py37hde5b4d6_1  \n",
      "olefile                   0.46                     py37_0  \n",
      "onnx                      1.6.0                    pypi_0    pypi\n",
      "onnxruntime               1.2.0                    pypi_0    pypi\n",
      "openssl                   1.1.1g               h7b6447c_0  \n",
      "parso                     0.7.0                      py_0  \n",
      "pcre                      8.43                 he6710b0_0  \n",
      "pexpect                   4.8.0                    py37_0  \n",
      "pickleshare               0.7.5                    py37_0  \n",
      "pillow                    7.1.2            py37hb39fc2d_0  \n",
      "pip                       20.0.2                   py37_1  \n",
      "prompt-toolkit            3.0.4                      py_0  \n",
      "prompt_toolkit            3.0.4                         0  \n",
      "protobuf                  3.11.3                   pypi_0    pypi\n",
      "ptyprocess                0.6.0                    py37_0  \n",
      "pygments                  2.6.1                      py_0  \n",
      "pyparsing                 2.4.7                      py_0  \n",
      "pyqt                      5.9.2            py37h05f1152_2  \n",
      "python                    3.7.7           hcf32534_0_cpython  \n",
      "python-dateutil           2.8.1                      py_0  \n",
      "pyzmq                     18.1.1           py37he6710b0_0  \n",
      "qt                        5.9.7                h5867ecd_1  \n",
      "readline                  8.0                  h7b6447c_0  \n",
      "setuptools                46.1.3                   py37_0  \n",
      "sip                       4.19.8           py37hf484d3e_0  \n",
      "six                       1.14.0                   py37_0  \n",
      "sqlite                    3.31.1               h62c20be_1  \n",
      "tk                        8.6.8                hbc83047_0  \n",
      "tornado                   6.0.4            py37h7b6447c_1  \n",
      "traitlets                 4.3.3                    py37_0  \n",
      "typing-extensions         3.7.4.2                  pypi_0    pypi\n",
      "wcwidth                   0.1.9                      py_0  \n",
      "wheel                     0.34.2                   py37_0  \n",
      "xz                        5.2.5                h7b6447c_0  \n",
      "zeromq                    4.3.1                he6710b0_3  \n",
      "zlib                      1.2.11               h7b6447c_3  \n",
      "zstd                      1.3.7                h0b5b093_0  \n"
     ]
    }
   ],
   "source": [
    "!conda list -n onnx-infer"
   ]
  },
  {
   "cell_type": "code",
   "execution_count": null,
   "metadata": {},
   "outputs": [],
   "source": []
  }
 ],
 "metadata": {
  "kernelspec": {
   "display_name": "onnx-infer",
   "language": "python",
   "name": "onnx-infer"
  },
  "language_info": {
   "codemirror_mode": {
    "name": "ipython",
    "version": 3
   },
   "file_extension": ".py",
   "mimetype": "text/x-python",
   "name": "python",
   "nbconvert_exporter": "python",
   "pygments_lexer": "ipython3",
   "version": "3.7.7"
  }
 },
 "nbformat": 4,
 "nbformat_minor": 4
}
